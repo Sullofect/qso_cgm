{
 "cells": [
  {
   "cell_type": "markdown",
   "metadata": {},
   "source": [
    "# Fitting photometric data\n",
    "\n",
    "This example will take you through the basics of fitting photometric data. You can find further information on the [fitting observational data](http://bagpipes.readthedocs.io/en/latest/fitting_galaxies.html) page of the documentation."
   ]
  },
  {
   "cell_type": "markdown",
   "metadata": {},
   "source": [
    "## Setting up\n",
    "\n",
    "First we're going to need to load up the observational data as a galaxy object, as demonstrated in Example 2:"
   ]
  },
  {
   "cell_type": "code",
   "execution_count": 1,
   "metadata": {},
   "outputs": [
    {
     "data": {
      "image/png": "[encoded data removed]",
      "text/plain": [
       "<Figure size 864x288 with 1 Axes>"
      ]
     },
     "metadata": {
      "needs_background": "light"
     },
     "output_type": "display_data"
    }
   ],
   "source": [
    "import numpy as np \n",
    "import bagpipes as pipes\n",
    "import matplotlib.pyplot as plt\n",
    "import matplotlib as mpl\n",
    "%matplotlib inline\n",
    "\n",
    "from astropy.io import fits\n",
    "\n",
    "\n",
    "def load_goodss(ID):\n",
    "#     \"\"\" Load UltraVISTA photometry from catalogue. \"\"\"\n",
    "\n",
    "#     # load up the relevant columns from the catalogue.\n",
    "#     cat = np.loadtxt(\"hlsp_candels_hst_wfc3_goodss-tot-multiband_f160w_v1-1photom_cat.txt\",\n",
    "#                      usecols=(10, 13, 16, 19, 25, 28, 31, 34, 37, 40, 43, 46, 49, 52, 55,\n",
    "#                               11, 14, 17, 20, 26, 29, 32, 35, 38, 41, 44, 47, 50, 53, 56))\n",
    "    \n",
    "#     # Find the correct row for the object we want.\n",
    "#     row = int(ID) - 1\n",
    "\n",
    "#     # Extract the object we want from the catalogue.\n",
    "#     fluxes = cat[row, :15]\n",
    "#     fluxerrs = cat[row, 15:]\n",
    "\n",
    "#     # Turn these into a 2D array.\n",
    "#     photometry = np.c_[fluxes, fluxerrs]\n",
    "\n",
    "#     # blow up the errors associated with any missing fluxes.\n",
    "#     for i in range(len(photometry)):\n",
    "#         if (photometry[i, 0] == 0.) or (photometry[i, 1] <= 0):\n",
    "#             photometry[i,:] = [0., 9.9*10**99.]\n",
    "            \n",
    "#     # Enforce a maximum SNR of 20, or 10 in the IRAC channels.\n",
    "#     for i in range(len(photometry)):\n",
    "#         if i < 10:\n",
    "#             max_snr = 20.\n",
    "            \n",
    "#         else:\n",
    "#             max_snr = 10.\n",
    "        \n",
    "#         if photometry[i, 0]/photometry[i, 1] > max_snr:\n",
    "#             photometry[i, 1] = photometry[i, 0]/max_snr\n",
    "\n",
    "    return np.array([[6.987040e-02, 7.049980e-03],\n",
    "                     [1.923840e-01, 4.059220e-02],\n",
    "                     [8.308090e-01, 4.154045e-02],\n",
    "                     [2.950840e+00, 1.475420e-01],\n",
    "                     [7.377370e+00, 3.688685e-01],\n",
    "                     [9.502210e+00, 4.751105e-01],\n",
    "                     [0.000000e+00, 9.900000e+99],\n",
    "                     [1.516060e+01, 7.580300e-01],\n",
    "                     [2.142950e+01, 1.071475e+00],\n",
    "                     [3.460530e+01, 1.730265e+00],\n",
    "                     [3.460900e+01, 3.460900e+00],\n",
    "                     [5.131500e+01, 5.131500e+00],\n",
    "                     [3.950320e+01, 3.950320e+00],\n",
    "                     [2.687740e+01, 2.687740e+00],\n",
    "                     [1.799710e+01, 1.799710e+00]])\n",
    "\n",
    "goodss_filt_list = np.loadtxt(\"filters/goodss_filt_list.txt\", dtype=\"str\")\n",
    "\n",
    "galaxy = pipes.galaxy(\"17433\", load_goodss, spectrum_exists=False, filt_list=goodss_filt_list)\n",
    "\n",
    "fig = galaxy.plot()"
   ]
  },
  {
   "cell_type": "markdown",
   "metadata": {},
   "source": [
    "## The fit instructions dictionary\n",
    "\n",
    "Next we need to define the model we want to fit to the data. We do this by creating a [fit instructions dictionary](https://bagpipes.readthedocs.io/en/latest/fit_instructions.html). In many ways this is similar to the model components dictionary (see Example 1). However there are a few extra options for defining the parameters we wish to fit and the priors we wish to impose."
   ]
  },
  {
   "cell_type": "code",
   "execution_count": 3,
   "metadata": {},
   "outputs": [],
   "source": [
    "exp = {}                                  # Tau-model star-formation history component\n",
    "exp[\"age\"] = (0.1, 15.)                   # Vary age between 100 Myr and 15 Gyr. In practice \n",
    "                                          # the code automatically limits this to the age of\n",
    "                                          # the Universe at the observed redshift.\n",
    "\n",
    "exp[\"tau\"] = (0.3, 10.)                   # Vary tau between 300 Myr and 10 Gyr\n",
    "exp[\"massformed\"] = (1., 15.)             # vary log_10(M*/M_solar) between 1 and 15\n",
    "exp[\"metallicity\"] = (0., 2.5)            # vary Z between 0 and 2.5 Z_oldsolar\n",
    "\n",
    "dust = {}                                 # Dust component\n",
    "dust[\"type\"] = \"Calzetti\"                 # Define the shape of the attenuation curve\n",
    "dust[\"Av\"] = (0., 2.)                     # Vary Av between 0 and 2 magnitudes\n",
    "\n",
    "fit_instructions = {}                     # The fit instructions dictionary\n",
    "fit_instructions[\"redshift\"] = (0., 10.)  # Vary observed redshift from 0 to 10\n",
    "fit_instructions[\"exponential\"] = exp   \n",
    "fit_instructions[\"dust\"] = dust"
   ]
  },
  {
   "cell_type": "markdown",
   "metadata": {},
   "source": [
    "Now we can pass the galaxy object and the fit_instructions dictionary into a fit object and run the MultiNest sampler to fit the data. "
   ]
  },
  {
   "cell_type": "code",
   "execution_count": null,
   "metadata": {},
   "outputs": [
    {
     "name": "stdout",
     "output_type": "stream",
     "text": [
      "\n",
      "Bagpipes: fitting object 17433\n",
      "\n",
      " MultiNest Warning: no resume file found, starting from scratch\n",
      " *****************************************************\n",
      " MultiNest v3.10\n",
      " Copyright Farhan Feroz & Mike Hobson\n",
      " Release Jul 2015\n",
      "\n",
      " no. of live points =  400\n",
      " dimensionality =    6\n",
      " *****************************************************\n"
     ]
    }
   ],
   "source": [
    "fit = pipes.fit(galaxy, fit_instructions)\n",
    "\n",
    "fit.fit(verbose=False)"
   ]
  },
  {
   "cell_type": "markdown",
   "metadata": {},
   "source": [
    "## Accessing posterior information\n",
    "\n",
    "Samples from the posterior distribution for the fitted parameters are saved into the fit.posterior.samples dictionary. Some basic derived quantities are also calculated by default:"
   ]
  },
  {
   "cell_type": "code",
   "execution_count": null,
   "metadata": {},
   "outputs": [],
   "source": [
    "list(fit.posterior.samples)"
   ]
  },
  {
   "cell_type": "markdown",
   "metadata": {},
   "source": [
    "The first dimension of all of these arrays runs over the samples in the posterior.\n",
    "\n",
    "If we want to know the posterior median living stellar mass we can write:"
   ]
  },
  {
   "cell_type": "code",
   "execution_count": null,
   "metadata": {},
   "outputs": [],
   "source": [
    "print np.median(fit.posterior.samples[\"stellar_mass\"])"
   ]
  },
  {
   "cell_type": "markdown",
   "metadata": {},
   "source": [
    "Or the posterior median specific star-formation rate:"
   ]
  },
  {
   "cell_type": "code",
   "execution_count": null,
   "metadata": {},
   "outputs": [],
   "source": [
    "print np.median(np.log10(fit.posterior.samples[\"sfr\"]) - fit.posterior.samples[\"stellar_mass\"])"
   ]
  },
  {
   "cell_type": "markdown",
   "metadata": {},
   "source": [
    "Or the confidence interval on the mass-weighted age:"
   ]
  },
  {
   "cell_type": "code",
   "execution_count": null,
   "metadata": {},
   "outputs": [],
   "source": [
    "print np.percentile(fit.posterior.samples[\"mass_weighted_age\"], (16, 84))"
   ]
  },
  {
   "cell_type": "markdown",
   "metadata": {},
   "source": [
    "## Further posterior quantities\n",
    "\n",
    "By default, samples for posterior quantities relating to the spectrum (e.g. posterior predictions for photometry, spectroscopy, rest-frame UVJ magnitudes etc) are not generated. These can be calculated using:"
   ]
  },
  {
   "cell_type": "code",
   "execution_count": null,
   "metadata": {},
   "outputs": [],
   "source": [
    "fit.posterior.get_advanced_quantities()\n",
    "list(fit.posterior.samples)"
   ]
  },
  {
   "cell_type": "markdown",
   "metadata": {},
   "source": [
    "Saving and loading posteriors\n",
    "-----------------------------------\n",
    "\n",
    "When a fit is finished, basic outputs needed to reconstruct the results of a fit are saved as a hdf5 file in the \"pipes/posterior\" directory. If this posterior file already exists when you create the fit object it'll automatically be loaded, and you won't be able to run the fit method again."
   ]
  },
  {
   "cell_type": "code",
   "execution_count": null,
   "metadata": {},
   "outputs": [],
   "source": [
    "fit = pipes.fit(galaxy, fit_instructions)\n",
    "\n",
    "fit.fit(verbose=False)"
   ]
  },
  {
   "cell_type": "markdown",
   "metadata": {},
   "source": [
    "If you want to start over just delete the posterior file. Alternatively, when you create your fit object, set the keyword argument \"run\" to some string, and this will start a brand new fit, the outputs of which will be saved in subfolders within pipes/posterior and pipes/plots with the same name as your run."
   ]
  },
  {
   "cell_type": "markdown",
   "metadata": {},
   "source": [
    "## Diagnostic plots\n",
    "\n",
    "Bagpipes allows the creation of several standard diagnostic plots to visualise fitting results.\n",
    "\n",
    "By default all of the plots one creates showing the fitting results are saved in the \"pipes/plots\" directory, here we will show them instead.\n"
   ]
  },
  {
   "cell_type": "code",
   "execution_count": null,
   "metadata": {},
   "outputs": [],
   "source": [
    "fig = fit.plot_spectrum_posterior(save=False, show=True)\n",
    "fig = fit.plot_sfh_posterior(save=False, show=True)\n",
    "fig = fit.plot_corner(save=False, show=True)"
   ]
  },
  {
   "cell_type": "markdown",
   "metadata": {},
   "source": [
    "The plotting interface is designed to be flexible enough that you can generate custom plots of things you want to see without having to start from scratch. The automatic latex axis labeller is coming on quite nicely as well!"
   ]
  },
  {
   "cell_type": "code",
   "execution_count": null,
   "metadata": {},
   "outputs": [],
   "source": [
    "plt.close()\n",
    "\n",
    "fig = plt.figure(figsize=(12, 7))\n",
    "gs = mpl.gridspec.GridSpec(7, 4, hspace=3., wspace=0.1)\n",
    "\n",
    "ax1 = plt.subplot(gs[:4, :])\n",
    "\n",
    "pipes.plotting.add_observed_photometry(fit.galaxy, ax1, zorder=10)\n",
    "pipes.plotting.add_photometry_posterior(fit, ax1)\n",
    "\n",
    "labels = [\"sfr\", \"mass_weighted_age\", \"stellar_mass\", \"ssfr\"]\n",
    "\n",
    "post_quantities = dict(zip(labels, [fit.posterior.samples[l] for l in labels]))\n",
    "\n",
    "axes = []\n",
    "for i in range(4):\n",
    "    axes.append(plt.subplot(gs[4:, i]))\n",
    "    pipes.plotting.hist1d(post_quantities[labels[i]], axes[-1], smooth=True, label=labels[i])\n",
    "\n",
    "plt.show()"
   ]
  },
  {
   "cell_type": "markdown",
   "metadata": {},
   "source": [
    "Move on to the next example to see how to fit more complicated models, including imposing priors on your fitting parameters."
   ]
  },
  {
   "cell_type": "markdown",
   "metadata": {},
   "source": [
    "## MPI Parallelisation\n",
    "\n",
    "Bagpipes supports MPI parallelisation of fitting with MultiNest. You will need to install both MPI and the mpi4py python package. All you then need to do is run mpirun/mpiexec -n nproc python pythoncode.py and MultiNest will automatically use multiple cores for likelihood calls."
   ]
  },
  {
   "cell_type": "code",
   "execution_count": null,
   "metadata": {},
   "outputs": [],
   "source": []
  }
 ],
 "metadata": {
  "kernelspec": {
   "display_name": "Python 3 (ipykernel)",
   "language": "python",
   "name": "python3"
  },
  "language_info": {
   "codemirror_mode": {
    "name": "ipython",
    "version": 3
   },
   "file_extension": ".py",
   "mimetype": "text/x-python",
   "name": "python",
   "nbconvert_exporter": "python",
   "pygments_lexer": "ipython3",
   "version": "3.7.11"
  }
 },
 "nbformat": 4,
 "nbformat_minor": 2
}

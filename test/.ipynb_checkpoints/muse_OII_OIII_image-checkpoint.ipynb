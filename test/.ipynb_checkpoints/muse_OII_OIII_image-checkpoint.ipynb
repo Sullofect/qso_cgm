{
 "cells": [
  {
   "cell_type": "code",
   "execution_count": null,
   "id": "b353839a",
   "metadata": {},
   "outputs": [],
   "source": [
    "import os\n",
    "import aplpy\n",
    "import matplotlib\n",
    "import numpy as np\n",
    "import astropy.io.fits as fits\n",
    "import matplotlib.pyplot as plt\n",
    "from mpdaf.obj import Cube, WCS, WaveCoord, iter_spe\n",
    "from matplotlib import rc\n",
    "from matplotlib import cm\n",
    "from astropy.wcs import WCS\n",
    "from astropy.coordinates import SkyCoord\n",
    "from matplotlib.colors import ListedColormap\n",
    "from astropy.wcs.utils import skycoord_to_pixel\n",
    "from astropy.wcs.utils import pixel_to_skycoord\n",
    "from astropy.table import Table\n",
    "\n",
    "\n",
    "\n",
    "path = os.path.join(os.sep, 'Users', 'lzq', 'Dropbox', 'Data', 'CGM', 'ESO_DEEP_offset.fits_SUBTRACTED.fits')\n",
    "cube = Cube(path)\n",
    "cube = cube.subcube((-18.8643, 40.1359), 40)\n",
    "cube = cube.select_lambda(8000, 8500)\n",
    "\n",
    "continuum = cube.clone(data_init=np.empty, var_init=np.zeros)\n",
    "\n",
    "for sp, co in zip(iter_spe(cube), iter_spe(continuum)):\n",
    "    sp.mask_region(8060, 8190)\n",
    "    co[:] = sp.poly_spec(3, weight=True)\n",
    "    sp.unmask()\n",
    "\n",
    "# cube_Hb = cube - continuum\n",
    "cube.unmask()\n",
    "continuum.unmask()\n",
    "\n",
    "cube_OIII = cube - continuum\n",
    "\n",
    "cube_OIII_line = cube_OIII.select_lambda(8060, 8190)\n",
    "image_OIII_line = cube_OIII_line.sum(axis=0) * 1.25 * 1e-20 / 0.2 / 0.2  # put into SB units\n",
    "\n",
    "cube_Hb.write('Users/lzq/Dropbox/Data/CGM/CUBE_OIII_line_offset.fits')\n",
    "image_Hb_line.write('Users/lzq/Dropbox/Data/CGM/image_OIII_line_SB_offset.fits')"
   ]
  }
 ],
 "metadata": {
  "kernelspec": {
   "display_name": "Python 3 (ipykernel)",
   "language": "python",
   "name": "python3"
  },
  "language_info": {
   "codemirror_mode": {
    "name": "ipython",
    "version": 3
   },
   "file_extension": ".py",
   "mimetype": "text/x-python",
   "name": "python",
   "nbconvert_exporter": "python",
   "pygments_lexer": "ipython3",
   "version": "3.7.11"
  }
 },
 "nbformat": 4,
 "nbformat_minor": 5
}
